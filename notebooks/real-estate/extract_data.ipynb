{
 "cells": [
  {
   "cell_type": "code",
   "execution_count": 1,
   "metadata": {},
   "outputs": [],
   "source": [
    "import requests\n",
    "import pandas as pd\n",
    "from lxml import html"
   ]
  },
  {
   "cell_type": "code",
   "execution_count": 12,
   "metadata": {},
   "outputs": [],
   "source": [
    "url = r\"https://www.magicbricks.com/property-for-rent/residential-real-estate?cityName=Gurgaon\"\n",
    "url2 = r'https://www.99acres.com/search/property/rent/gurgaon?city=8&preference=R&area_unit=1&res_com=R'\n",
    "response = requests.get(url2)\n",
    "if response.status_code == 200:\n",
    "    content = response.content\n",
    "    parsed_content = html.fromstring(content)\n"
   ]
  },
  {
   "cell_type": "code",
   "execution_count": 10,
   "metadata": {},
   "outputs": [
    {
     "data": {
      "text/plain": [
       "30"
      ]
     },
     "execution_count": 10,
     "metadata": {},
     "output_type": "execute_result"
    }
   ],
   "source": [
    "len(parsed_content.xpath('//*[@class=\"srpTuple__cardWrap tupleCardWrap\"]'))"
   ]
  }
 ],
 "metadata": {
  "kernelspec": {
   "display_name": "geospatial_env",
   "language": "python",
   "name": "python3"
  },
  "language_info": {
   "codemirror_mode": {
    "name": "ipython",
    "version": 3
   },
   "file_extension": ".py",
   "mimetype": "text/x-python",
   "name": "python",
   "nbconvert_exporter": "python",
   "pygments_lexer": "ipython3",
   "version": "3.11.0"
  }
 },
 "nbformat": 4,
 "nbformat_minor": 2
}
