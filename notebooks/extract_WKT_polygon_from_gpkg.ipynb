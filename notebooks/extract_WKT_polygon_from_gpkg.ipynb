{
 "cells": [
  {
   "cell_type": "code",
   "execution_count": 28,
   "metadata": {},
   "outputs": [],
   "source": [
    "import geopandas as gpd\n",
    "import osmnx\n",
    "import os"
   ]
  },
  {
   "cell_type": "code",
   "execution_count": 2,
   "metadata": {},
   "outputs": [
    {
     "name": "stdout",
     "output_type": "stream",
     "text": [
      "<class 'geopandas.geodataframe.GeoDataFrame'>\n",
      "RangeIndex: 1 entries, 0 to 0\n",
      "Data columns (total 3 columns):\n",
      " #   Column    Non-Null Count  Dtype   \n",
      "---  ------    --------------  -----   \n",
      " 0   fid       1 non-null      float64 \n",
      " 1   name      1 non-null      object  \n",
      " 2   geometry  1 non-null      geometry\n",
      "dtypes: float64(1), geometry(1), object(1)\n",
      "memory usage: 152.0+ bytes\n"
     ]
    }
   ],
   "source": [
    "gdf = gpd.read_file(r\"..\\data\\sector 56 boundary\\sector_56.shp\")\n",
    "gdf.info()"
   ]
  },
  {
   "cell_type": "code",
   "execution_count": 3,
   "metadata": {},
   "outputs": [
    {
     "data": {
      "text/plain": [
       "'POLYGON ((77.09144 28.429853, 77.094414 28.430802, 77.096136 28.431348, 77.104385 28.431222, 77.105054 28.430444, 77.105102 28.42975, 77.104863 28.419615, 77.097594 28.417449, 77.095634 28.417365, 77.091306 28.417491, 77.09144 28.429853))'"
      ]
     },
     "execution_count": 3,
     "metadata": {},
     "output_type": "execute_result"
    }
   ],
   "source": [
    "gdf['geometry'].to_wkt().iloc[0]"
   ]
  },
  {
   "cell_type": "code",
   "execution_count": 8,
   "metadata": {},
   "outputs": [],
   "source": [
    "polygon = gdf['geometry'].iloc[0]"
   ]
  },
  {
   "cell_type": "code",
   "execution_count": 32,
   "metadata": {},
   "outputs": [
    {
     "name": "stdout",
     "output_type": "stream",
     "text": [
      "['building', 'name', 'geometry', 'nodes', 'addr:city', 'addr:housenumber', 'addr:postcode', 'addr:street', 'brand', 'contact:facebook', 'contact:instagram', 'email', 'fax', 'internet_access', 'opening_hours', 'operator', 'phone', 'rooms', 'smoking', 'stars', 'tourism', 'website', 'source', 'building:levels', 'addr:district', 'ways', 'type']\n"
     ]
    }
   ],
   "source": [
    "buildings = osmnx.features.features_from_polygon(polygon, tags={'building': True})\n",
    "print(list(buildings.columns))"
   ]
  },
  {
   "cell_type": "code",
   "execution_count": 33,
   "metadata": {},
   "outputs": [
    {
     "data": {
      "text/html": [
       "<div>\n",
       "<style scoped>\n",
       "    .dataframe tbody tr th:only-of-type {\n",
       "        vertical-align: middle;\n",
       "    }\n",
       "\n",
       "    .dataframe tbody tr th {\n",
       "        vertical-align: top;\n",
       "    }\n",
       "\n",
       "    .dataframe thead th {\n",
       "        text-align: right;\n",
       "    }\n",
       "</style>\n",
       "<table border=\"1\" class=\"dataframe\">\n",
       "  <thead>\n",
       "    <tr style=\"text-align: right;\">\n",
       "      <th></th>\n",
       "      <th>element_type</th>\n",
       "      <th>osmid</th>\n",
       "      <th>building</th>\n",
       "      <th>name</th>\n",
       "      <th>geometry</th>\n",
       "      <th>building:levels</th>\n",
       "    </tr>\n",
       "  </thead>\n",
       "  <tbody>\n",
       "    <tr>\n",
       "      <th>802</th>\n",
       "      <td>way</td>\n",
       "      <td>414905042</td>\n",
       "      <td>yes</td>\n",
       "      <td>NaN</td>\n",
       "      <td>POLYGON ((77.09717 28.42690, 77.09732 28.42690...</td>\n",
       "      <td>NaN</td>\n",
       "    </tr>\n",
       "    <tr>\n",
       "      <th>383</th>\n",
       "      <td>way</td>\n",
       "      <td>350829698</td>\n",
       "      <td>apartments</td>\n",
       "      <td>NaN</td>\n",
       "      <td>POLYGON ((77.09635 28.43108, 77.09643 28.43103...</td>\n",
       "      <td>NaN</td>\n",
       "    </tr>\n",
       "    <tr>\n",
       "      <th>765</th>\n",
       "      <td>way</td>\n",
       "      <td>414626794</td>\n",
       "      <td>yes</td>\n",
       "      <td>NaN</td>\n",
       "      <td>POLYGON ((77.09539 28.42697, 77.09555 28.42696...</td>\n",
       "      <td>NaN</td>\n",
       "    </tr>\n",
       "    <tr>\n",
       "      <th>38</th>\n",
       "      <td>way</td>\n",
       "      <td>350080379</td>\n",
       "      <td>yes</td>\n",
       "      <td>NaN</td>\n",
       "      <td>POLYGON ((77.10292 28.42018, 77.10292 28.42030...</td>\n",
       "      <td>NaN</td>\n",
       "    </tr>\n",
       "    <tr>\n",
       "      <th>504</th>\n",
       "      <td>way</td>\n",
       "      <td>350829825</td>\n",
       "      <td>yes</td>\n",
       "      <td>NaN</td>\n",
       "      <td>POLYGON ((77.09872 28.42846, 77.09899 28.42845...</td>\n",
       "      <td>NaN</td>\n",
       "    </tr>\n",
       "  </tbody>\n",
       "</table>\n",
       "</div>"
      ],
      "text/plain": [
       "    element_type      osmid    building name  \\\n",
       "802          way  414905042         yes  NaN   \n",
       "383          way  350829698  apartments  NaN   \n",
       "765          way  414626794         yes  NaN   \n",
       "38           way  350080379         yes  NaN   \n",
       "504          way  350829825         yes  NaN   \n",
       "\n",
       "                                              geometry building:levels  \n",
       "802  POLYGON ((77.09717 28.42690, 77.09732 28.42690...             NaN  \n",
       "383  POLYGON ((77.09635 28.43108, 77.09643 28.43103...             NaN  \n",
       "765  POLYGON ((77.09539 28.42697, 77.09555 28.42696...             NaN  \n",
       "38   POLYGON ((77.10292 28.42018, 77.10292 28.42030...             NaN  \n",
       "504  POLYGON ((77.09872 28.42846, 77.09899 28.42845...             NaN  "
      ]
     },
     "execution_count": 33,
     "metadata": {},
     "output_type": "execute_result"
    }
   ],
   "source": [
    "buildings = osmnx.features.features_from_polygon(polygon, tags={'building': True})\n",
    "buildings = buildings.reset_index()[[\"element_type\", \"osmid\", 'building', 'name', 'geometry', 'building:levels']]\n",
    "buildings = buildings[buildings.geometry.type != 'Point']\n",
    "buildings.sample(5)"
   ]
  },
  {
   "cell_type": "code",
   "execution_count": 34,
   "metadata": {},
   "outputs": [
    {
     "name": "stdout",
     "output_type": "stream",
     "text": [
      "File Size of ..\\data\\sector56_buildings_osm.parquet is 0.18 MB\n",
      "CPU times: total: 15.6 ms\n",
      "Wall time: 13.9 ms\n"
     ]
    }
   ],
   "source": [
    "%%time\n",
    "filename = r\"..\\data\\sector56_buildings_osm.parquet\"\n",
    "buildings.to_parquet(filename)\n",
    "\n",
    "def fileSize(filename):\n",
    "    file_stats = os.stat(filename)\n",
    "    print(f'File Size of {filename} is {file_stats.st_size / (1024 * 1024):.2f} MB')\n",
    "\n",
    "fileSize(filename)"
   ]
  }
 ],
 "metadata": {
  "kernelspec": {
   "display_name": "geospatial_env",
   "language": "python",
   "name": "python3"
  },
  "language_info": {
   "codemirror_mode": {
    "name": "ipython",
    "version": 3
   },
   "file_extension": ".py",
   "mimetype": "text/x-python",
   "name": "python",
   "nbconvert_exporter": "python",
   "pygments_lexer": "ipython3",
   "version": "3.11.0"
  }
 },
 "nbformat": 4,
 "nbformat_minor": 2
}
