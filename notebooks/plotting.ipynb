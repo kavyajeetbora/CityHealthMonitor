{
 "cells": [
  {
   "cell_type": "code",
   "execution_count": 1,
   "metadata": {},
   "outputs": [],
   "source": [
    "import geopandas as gpd\n",
    "import pydeck\n",
    "import json"
   ]
  },
  {
   "cell_type": "markdown",
   "metadata": {},
   "source": [
    "## Read the file"
   ]
  },
  {
   "cell_type": "code",
   "execution_count": 2,
   "metadata": {},
   "outputs": [
    {
     "name": "stdout",
     "output_type": "stream",
     "text": [
      "CPU times: total: 4.89 s\n",
      "Wall time: 4.78 s\n"
     ]
    },
    {
     "data": {
      "text/html": [
       "<div>\n",
       "<style scoped>\n",
       "    .dataframe tbody tr th:only-of-type {\n",
       "        vertical-align: middle;\n",
       "    }\n",
       "\n",
       "    .dataframe tbody tr th {\n",
       "        vertical-align: top;\n",
       "    }\n",
       "\n",
       "    .dataframe thead th {\n",
       "        text-align: right;\n",
       "    }\n",
       "</style>\n",
       "<table border=\"1\" class=\"dataframe\">\n",
       "  <thead>\n",
       "    <tr style=\"text-align: right;\">\n",
       "      <th></th>\n",
       "      <th>latitude</th>\n",
       "      <th>longitude</th>\n",
       "      <th>area_in_meters</th>\n",
       "      <th>confidence</th>\n",
       "      <th>geometry</th>\n",
       "    </tr>\n",
       "  </thead>\n",
       "  <tbody>\n",
       "    <tr>\n",
       "      <th>0</th>\n",
       "      <td>28.758595</td>\n",
       "      <td>77.196609</td>\n",
       "      <td>172.9119</td>\n",
       "      <td>0.8858</td>\n",
       "      <td>POLYGON ((77.19670 28.75862, 77.19658 28.75868...</td>\n",
       "    </tr>\n",
       "    <tr>\n",
       "      <th>1</th>\n",
       "      <td>28.508765</td>\n",
       "      <td>77.271995</td>\n",
       "      <td>63.5097</td>\n",
       "      <td>0.7287</td>\n",
       "      <td>POLYGON ((77.27206 28.50877, 77.27196 28.50881...</td>\n",
       "    </tr>\n",
       "    <tr>\n",
       "      <th>2</th>\n",
       "      <td>28.528635</td>\n",
       "      <td>76.986889</td>\n",
       "      <td>9.5549</td>\n",
       "      <td>0.8001</td>\n",
       "      <td>POLYGON ((76.98690 28.52862, 76.98691 28.52865...</td>\n",
       "    </tr>\n",
       "    <tr>\n",
       "      <th>3</th>\n",
       "      <td>28.726153</td>\n",
       "      <td>77.148631</td>\n",
       "      <td>55.5711</td>\n",
       "      <td>0.6934</td>\n",
       "      <td>POLYGON ((77.14860 28.72610, 77.14869 28.72617...</td>\n",
       "    </tr>\n",
       "    <tr>\n",
       "      <th>4</th>\n",
       "      <td>28.765034</td>\n",
       "      <td>77.172913</td>\n",
       "      <td>41.7228</td>\n",
       "      <td>0.6849</td>\n",
       "      <td>POLYGON ((77.17294 28.76500, 77.17294 28.76507...</td>\n",
       "    </tr>\n",
       "  </tbody>\n",
       "</table>\n",
       "</div>"
      ],
      "text/plain": [
       "    latitude  longitude  area_in_meters  confidence  \\\n",
       "0  28.758595  77.196609        172.9119      0.8858   \n",
       "1  28.508765  77.271995         63.5097      0.7287   \n",
       "2  28.528635  76.986889          9.5549      0.8001   \n",
       "3  28.726153  77.148631         55.5711      0.6934   \n",
       "4  28.765034  77.172913         41.7228      0.6849   \n",
       "\n",
       "                                            geometry  \n",
       "0  POLYGON ((77.19670 28.75862, 77.19658 28.75868...  \n",
       "1  POLYGON ((77.27206 28.50877, 77.27196 28.50881...  \n",
       "2  POLYGON ((76.98690 28.52862, 76.98691 28.52865...  \n",
       "3  POLYGON ((77.14860 28.72610, 77.14869 28.72617...  \n",
       "4  POLYGON ((77.17294 28.76500, 77.17294 28.76507...  "
      ]
     },
     "execution_count": 2,
     "metadata": {},
     "output_type": "execute_result"
    }
   ],
   "source": [
    "%%time\n",
    "\n",
    "buildings = gpd.read_parquet(r\"..\\data\\delhi_buildings.parquet\")\n",
    "buildings.head()"
   ]
  },
  {
   "cell_type": "code",
   "execution_count": 3,
   "metadata": {},
   "outputs": [
    {
     "name": "stdout",
     "output_type": "stream",
     "text": [
      "<class 'geopandas.geodataframe.GeoDataFrame'>\n",
      "RangeIndex: 2483454 entries, 0 to 2483453\n",
      "Data columns (total 5 columns):\n",
      " #   Column          Dtype   \n",
      "---  ------          -----   \n",
      " 0   latitude        float64 \n",
      " 1   longitude       float64 \n",
      " 2   area_in_meters  float64 \n",
      " 3   confidence      float64 \n",
      " 4   geometry        geometry\n",
      "dtypes: float64(4), geometry(1)\n",
      "memory usage: 94.7 MB\n"
     ]
    }
   ],
   "source": [
    "buildings.info()"
   ]
  },
  {
   "cell_type": "markdown",
   "metadata": {},
   "source": [
    "## Plotting the buildings in pydeck"
   ]
  },
  {
   "cell_type": "code",
   "execution_count": 4,
   "metadata": {},
   "outputs": [],
   "source": [
    "%%timeit \n",
    "\n",
    "view_state = pydeck.ViewState(\n",
    "    latitude=28.7041,\n",
    "    longitude=77.1025,\n",
    "    zoom=11.5,\n",
    "    min_zoom=10,\n",
    "    pitch=45,\n",
    "    bearing=0\n",
    ")\n",
    "\n",
    "building_layer = pydeck.Layer(\n",
    "    type='GeoJsonLayer',\n",
    "    data=json.loads(buildings.to_json()),\n",
    "    stoked=True,\n",
    "    getLineColor=[158, 2, 38,100],\n",
    "    getLineWidth=100,\n",
    "    filled=False\n",
    ")\n",
    "\n",
    "\n",
    "deck = pydeck.Deck(\n",
    "    layers=[building_layer], \n",
    "    initial_view_state=view_state, \n",
    "    tooltip=tooltip,\n",
    "    map_style=pydeck.map_styles.CARTO_LIGHT\n",
    ")\n",
    "\n",
    "deck.to_html(r\"..\\data\\delhi_buildings.html\")"
   ]
  }
 ],
 "metadata": {
  "kernelspec": {
   "display_name": "geospatial_env",
   "language": "python",
   "name": "python3"
  },
  "language_info": {
   "codemirror_mode": {
    "name": "ipython",
    "version": 3
   },
   "file_extension": ".py",
   "mimetype": "text/x-python",
   "name": "python",
   "nbconvert_exporter": "python",
   "pygments_lexer": "ipython3",
   "version": "3.11.0"
  }
 },
 "nbformat": 4,
 "nbformat_minor": 2
}
